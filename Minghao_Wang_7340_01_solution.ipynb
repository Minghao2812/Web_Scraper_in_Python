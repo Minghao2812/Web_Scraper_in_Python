{
 "cells": [
  {
   "cell_type": "code",
   "execution_count": 1,
   "metadata": {},
   "outputs": [],
   "source": [
    "import requests\n",
    "import bs4 as bs\n",
    "import pandas as pd"
   ]
  },
  {
   "cell_type": "markdown",
   "metadata": {},
   "source": [
    "# Question1\n",
    "Scrape this url: https://www.rottentomatoes.com"
   ]
  },
  {
   "cell_type": "code",
   "execution_count": 0,
   "metadata": {},
   "outputs": [],
   "source": [
    "url = \"https://www.rottentomatoes.com/top/bestofrt/top_100_animation_movies/\"\n",
    "rtest = requests.get(url)\n",
    "rtest.encoding = 'utf-8'\n",
    "soup = bs.BeautifulSoup(rtest.text, 'lxml')"
   ]
  },
  {
   "cell_type": "markdown",
   "metadata": {},
   "source": [
    "# Question 2.1"
   ]
  },
  {
   "cell_type": "code",
   "execution_count": 0,
   "metadata": {},
   "outputs": [],
   "source": [
    "title = soup.title.text\n",
    "print(title)"
   ]
  },
  {
   "cell_type": "markdown",
   "metadata": {},
   "source": [
    "# Question 2.2"
   ]
  },
  {
   "cell_type": "code",
   "execution_count": 0,
   "metadata": {},
   "outputs": [],
   "source": [
    "description = soup.find('<meta name = \"description\">')\n",
    "print(description)"
   ]
  },
  {
   "cell_type": "markdown",
   "metadata": {},
   "source": [
    "# Question 2.3"
   ]
  },
  {
   "cell_type": "code",
   "execution_count": 0,
   "metadata": {},
   "outputs": [],
   "source": [
    "keywords = soup.find('keywords')\n",
    "print(keywords)"
   ]
  },
  {
   "cell_type": "markdown",
   "metadata": {},
   "source": [
    "# Question 2.4"
   ]
  },
  {
   "cell_type": "code",
   "execution_count": 0,
   "metadata": {},
   "outputs": [],
   "source": [
    "h2 = soup.find('h2')\n",
    "print(h2.text)"
   ]
  },
  {
   "cell_type": "markdown",
   "metadata": {},
   "source": [
    "# Question 2.5"
   ]
  },
  {
   "cell_type": "code",
   "execution_count": 0,
   "metadata": {},
   "outputs": [],
   "source": [
    "for p in soup.find_all('p'):\n",
    "    print(p.text)"
   ]
  },
  {
   "cell_type": "markdown",
   "metadata": {},
   "source": [
    "# Question3\n",
    "![Scraping Target](./scraping_target.png)"
   ]
  },
  {
   "cell_type": "markdown",
   "metadata": {},
   "source": [
    "# Question 4"
   ]
  },
  {
   "cell_type": "markdown",
   "metadata": {},
   "source": [
    "## to harvest and generate urls autometically"
   ]
  },
  {
   "cell_type": "code",
   "execution_count": 0,
   "metadata": {},
   "outputs": [],
   "source": [
    "url = \"https://www.rottentomatoes.com/top/bestofrt/top_100_animation_movies/\"\n",
    "rtest = requests.get(url)\n",
    "rtest.encoding = 'utf-8'\n",
    "soup = bs.BeautifulSoup(rtest.text, 'lxml')"
   ]
  },
  {
   "cell_type": "code",
   "execution_count": 0,
   "metadata": {},
   "outputs": [],
   "source": [
    "# extract genres in order to find urls automatically\n",
    "genre = soup.find('ul', attrs = {'class':'dropdown-menu'})\n",
    "genre_list = [k.text for k in genre.find_all('a')]\n",
    "for i in range(len(genre_list)):\n",
    "    genre_list[i] = genre_list[i].strip()\n",
    "    genre_list[i] = genre_list[i].lower()\n",
    "    genre_list[i] = genre_list[i].replace(' & ','__')\n",
    "    genre_list[i] = genre_list[i].replace(' ','_')\n",
    "    \n",
    "print(genre_list)"
   ]
  },
  {
   "cell_type": "markdown",
   "metadata": {},
   "source": [
    "## to harvest ranking, title, year and link in **multiple pages**"
   ]
  },
  {
   "cell_type": "code",
   "execution_count": 0,
   "metadata": {},
   "outputs": [],
   "source": [
    "title_text = []\n",
    "title_year = []\n",
    "ranking_list = []\n",
    "genre_list_show = []\n",
    "link_list = []\n",
    "\n",
    "for genre in genre_list:\n",
    "    url = \"https://www.rottentomatoes.com/top/bestofrt/top_100_\"+genre+\"_movies/\"\n",
    "    r = requests.get(url)\n",
    "    r.encoding = 'utf-8'\n",
    "    soup = bs.BeautifulSoup(r.text, 'lxml')\n",
    "    \n",
    "    movie_table_container = soup.find('table', attrs = {'class':'table'})\n",
    "    #print(movie_table_container)\n",
    "    \n",
    "    # title layout: <movie_title><year>\n",
    "    title = [t.text for t in movie_table_container.find_all(class_ = 'unstyled articleLink')]\n",
    "    # title is a list of strings\n",
    "    \n",
    "    # add 'genre' to genre_list_show\n",
    "    for i in range(len(title)):\n",
    "        genre_list_show.append(genre)\n",
    "        \n",
    "    # clean 'title_text'\n",
    "    for i in range(len(title)):\n",
    "        title_text.append(title[i].replace(title[i][-6:],''))\n",
    "    for i in range(len(title_text)):\n",
    "        title_text[i] = title_text[i].strip()\n",
    "        \n",
    "    # clean 'year'\n",
    "    for i in range(len(title)):\n",
    "        title_year.append(title[i][-6:])\n",
    "    for i in range(len(title_year)):\n",
    "        title_year[i] = title_year[i].strip('(')\n",
    "        title_year[i] = title_year[i].strip(')')\n",
    "\n",
    "    # get 'link'    \n",
    "    a_box = movie_table_container.find_all('a')\n",
    "    href = [h.get('href') for h in a_box]\n",
    "    for i in range(len(href)):\n",
    "        href[i] = 'https://www.rottentomatoes.com'+href[i]\n",
    "        link_list.append(href[i])\n",
    "    \n",
    "    ranking = [r.text for r in movie_table_container.find_all(class_ = 'bold')]\n",
    "    for r in ranking:\n",
    "        ranking_list.append(int(r.strip('.')))\n",
    "    #print(genre_list)\n",
    "    df = pd.DataFrame({'genre':genre_list_show,'ranking':ranking_list,'title':title_text,'year':title_year,'link':link_list})"
   ]
  },
  {
   "cell_type": "code",
   "execution_count": 0,
   "metadata": {},
   "outputs": [],
   "source": [
    "df"
   ]
  },
  {
   "cell_type": "code",
   "execution_count": 0,
   "metadata": {},
   "outputs": [],
   "source": [
    "df.to_csv('tomato_best_100_by_genre.csv')"
   ]
  }
 ],
 "metadata": {
  "kernelspec": {
   "display_name": "Python 3",
   "language": "python",
   "name": "python3"
  },
  "language_info": {
   "codemirror_mode": {
    "name": "ipython",
    "version": 3
   },
   "file_extension": ".py",
   "mimetype": "text/x-python",
   "name": "python",
   "nbconvert_exporter": "python",
   "pygments_lexer": "ipython3",
   "version": "3.7.4"
  }
 },
 "nbformat": 4,
 "nbformat_minor": 4
}